{
 "cells": [
  {
   "cell_type": "code",
   "execution_count": 2,
   "id": "0e237bbf",
   "metadata": {},
   "outputs": [],
   "source": [
    "import pandas as pd"
   ]
  },
  {
   "cell_type": "code",
   "execution_count": 3,
   "id": "5b3f7fd8",
   "metadata": {},
   "outputs": [
    {
     "name": "stderr",
     "output_type": "stream",
     "text": [
      "C:\\Users\\Raynn\\AppData\\Local\\Temp\\ipykernel_8788\\2679929997.py:4: DtypeWarning: Columns (1,2,3) have mixed types. Specify dtype option on import or set low_memory=False.\n",
      "  data_frame = pd.read_csv(csv_file_path)\n"
     ]
    }
   ],
   "source": [
    "import dask.dataframe as dd\n",
    "\n",
    "csv_file_path = r'C:\\Users\\Raynn\\Documents\\AA\\orcanalytics\\NASA_Chlorophyll_1M.csv'\n",
    "data_frame = pd.read_csv(csv_file_path)"
   ]
  },
  {
   "cell_type": "code",
   "execution_count": 5,
   "id": "daaa1f93",
   "metadata": {},
   "outputs": [
    {
     "data": {
      "text/html": [
       "<div>\n",
       "<style scoped>\n",
       "    .dataframe tbody tr th:only-of-type {\n",
       "        vertical-align: middle;\n",
       "    }\n",
       "\n",
       "    .dataframe tbody tr th {\n",
       "        vertical-align: top;\n",
       "    }\n",
       "\n",
       "    .dataframe thead th {\n",
       "        text-align: right;\n",
       "    }\n",
       "</style>\n",
       "<table border=\"1\" class=\"dataframe\">\n",
       "  <thead>\n",
       "    <tr style=\"text-align: right;\">\n",
       "      <th></th>\n",
       "      <th>time</th>\n",
       "      <th>latitude</th>\n",
       "      <th>longitude</th>\n",
       "      <th>chlorophyll</th>\n",
       "    </tr>\n",
       "  </thead>\n",
       "  <tbody>\n",
       "    <tr>\n",
       "      <th>37324796</th>\n",
       "      <td>2022-05-16T00:00:00Z</td>\n",
       "      <td>-89.97917</td>\n",
       "      <td>179.81252</td>\n",
       "      <td>NaN</td>\n",
       "    </tr>\n",
       "    <tr>\n",
       "      <th>37324797</th>\n",
       "      <td>2022-05-16T00:00:00Z</td>\n",
       "      <td>-89.97917</td>\n",
       "      <td>179.85417</td>\n",
       "      <td>NaN</td>\n",
       "    </tr>\n",
       "    <tr>\n",
       "      <th>37324798</th>\n",
       "      <td>2022-05-16T00:00:00Z</td>\n",
       "      <td>-89.97917</td>\n",
       "      <td>179.89584</td>\n",
       "      <td>NaN</td>\n",
       "    </tr>\n",
       "    <tr>\n",
       "      <th>37324799</th>\n",
       "      <td>2022-05-16T00:00:00Z</td>\n",
       "      <td>-89.97917</td>\n",
       "      <td>179.93752</td>\n",
       "      <td>NaN</td>\n",
       "    </tr>\n",
       "    <tr>\n",
       "      <th>37324800</th>\n",
       "      <td>2022-05-16T00:00:00Z</td>\n",
       "      <td>-89.97917</td>\n",
       "      <td>179.97917</td>\n",
       "      <td>NaN</td>\n",
       "    </tr>\n",
       "  </tbody>\n",
       "</table>\n",
       "</div>"
      ],
      "text/plain": [
       "                          time  latitude  longitude chlorophyll\n",
       "37324796  2022-05-16T00:00:00Z -89.97917  179.81252         NaN\n",
       "37324797  2022-05-16T00:00:00Z -89.97917  179.85417         NaN\n",
       "37324798  2022-05-16T00:00:00Z -89.97917  179.89584         NaN\n",
       "37324799  2022-05-16T00:00:00Z -89.97917  179.93752         NaN\n",
       "37324800  2022-05-16T00:00:00Z -89.97917  179.97917         NaN"
      ]
     },
     "execution_count": 5,
     "metadata": {},
     "output_type": "execute_result"
    }
   ],
   "source": [
    "data_frame.tail()"
   ]
  },
  {
   "cell_type": "code",
   "execution_count": 6,
   "id": "6b4c2654",
   "metadata": {},
   "outputs": [],
   "source": [
    "data_frame_cleaned = data_frame.dropna()"
   ]
  },
  {
   "cell_type": "code",
   "execution_count": 7,
   "id": "713f4056",
   "metadata": {},
   "outputs": [
    {
     "data": {
      "text/html": [
       "<div>\n",
       "<style scoped>\n",
       "    .dataframe tbody tr th:only-of-type {\n",
       "        vertical-align: middle;\n",
       "    }\n",
       "\n",
       "    .dataframe tbody tr th {\n",
       "        vertical-align: top;\n",
       "    }\n",
       "\n",
       "    .dataframe thead th {\n",
       "        text-align: right;\n",
       "    }\n",
       "</style>\n",
       "<table border=\"1\" class=\"dataframe\">\n",
       "  <thead>\n",
       "    <tr style=\"text-align: right;\">\n",
       "      <th></th>\n",
       "      <th>time</th>\n",
       "      <th>latitude</th>\n",
       "      <th>longitude</th>\n",
       "      <th>chlorophyll</th>\n",
       "    </tr>\n",
       "  </thead>\n",
       "  <tbody>\n",
       "    <tr>\n",
       "      <th>0</th>\n",
       "      <td>UTC</td>\n",
       "      <td>degrees_north</td>\n",
       "      <td>degrees_east</td>\n",
       "      <td>mg m-3</td>\n",
       "    </tr>\n",
       "    <tr>\n",
       "      <th>1480398</th>\n",
       "      <td>2022-05-16T00:00:00Z</td>\n",
       "      <td>82.854164</td>\n",
       "      <td>-56.77083</td>\n",
       "      <td>0.025177</td>\n",
       "    </tr>\n",
       "    <tr>\n",
       "      <th>1480399</th>\n",
       "      <td>2022-05-16T00:00:00Z</td>\n",
       "      <td>82.854164</td>\n",
       "      <td>-56.729164</td>\n",
       "      <td>0.025176</td>\n",
       "    </tr>\n",
       "    <tr>\n",
       "      <th>1480400</th>\n",
       "      <td>2022-05-16T00:00:00Z</td>\n",
       "      <td>82.854164</td>\n",
       "      <td>-56.687496</td>\n",
       "      <td>0.025176</td>\n",
       "    </tr>\n",
       "    <tr>\n",
       "      <th>1480401</th>\n",
       "      <td>2022-05-16T00:00:00Z</td>\n",
       "      <td>82.854164</td>\n",
       "      <td>-56.64583</td>\n",
       "      <td>0.025176</td>\n",
       "    </tr>\n",
       "    <tr>\n",
       "      <th>...</th>\n",
       "      <td>...</td>\n",
       "      <td>...</td>\n",
       "      <td>...</td>\n",
       "      <td>...</td>\n",
       "    </tr>\n",
       "    <tr>\n",
       "      <th>29315546</th>\n",
       "      <td>2022-05-16T00:00:00Z</td>\n",
       "      <td>-51.395836</td>\n",
       "      <td>-178.9375</td>\n",
       "      <td>0.19993</td>\n",
       "    </tr>\n",
       "    <tr>\n",
       "      <th>29319784</th>\n",
       "      <td>2022-05-16T00:00:00Z</td>\n",
       "      <td>-51.395836</td>\n",
       "      <td>-2.354161</td>\n",
       "      <td>0.233488</td>\n",
       "    </tr>\n",
       "    <tr>\n",
       "      <th>29319785</th>\n",
       "      <td>2022-05-16T00:00:00Z</td>\n",
       "      <td>-51.395836</td>\n",
       "      <td>-2.312495</td>\n",
       "      <td>0.233488</td>\n",
       "    </tr>\n",
       "    <tr>\n",
       "      <th>29324185</th>\n",
       "      <td>2022-05-16T00:00:00Z</td>\n",
       "      <td>-51.437504</td>\n",
       "      <td>-178.97917</td>\n",
       "      <td>0.203188</td>\n",
       "    </tr>\n",
       "    <tr>\n",
       "      <th>29324186</th>\n",
       "      <td>2022-05-16T00:00:00Z</td>\n",
       "      <td>-51.437504</td>\n",
       "      <td>-178.9375</td>\n",
       "      <td>0.203188</td>\n",
       "    </tr>\n",
       "  </tbody>\n",
       "</table>\n",
       "<p>14773611 rows × 4 columns</p>\n",
       "</div>"
      ],
      "text/plain": [
       "                          time       latitude     longitude chlorophyll\n",
       "0                          UTC  degrees_north  degrees_east      mg m-3\n",
       "1480398   2022-05-16T00:00:00Z      82.854164     -56.77083    0.025177\n",
       "1480399   2022-05-16T00:00:00Z      82.854164    -56.729164    0.025176\n",
       "1480400   2022-05-16T00:00:00Z      82.854164    -56.687496    0.025176\n",
       "1480401   2022-05-16T00:00:00Z      82.854164     -56.64583    0.025176\n",
       "...                        ...            ...           ...         ...\n",
       "29315546  2022-05-16T00:00:00Z     -51.395836     -178.9375     0.19993\n",
       "29319784  2022-05-16T00:00:00Z     -51.395836     -2.354161    0.233488\n",
       "29319785  2022-05-16T00:00:00Z     -51.395836     -2.312495    0.233488\n",
       "29324185  2022-05-16T00:00:00Z     -51.437504    -178.97917    0.203188\n",
       "29324186  2022-05-16T00:00:00Z     -51.437504     -178.9375    0.203188\n",
       "\n",
       "[14773611 rows x 4 columns]"
      ]
     },
     "execution_count": 7,
     "metadata": {},
     "output_type": "execute_result"
    }
   ],
   "source": [
    "data_frame_cleaned"
   ]
  },
  {
   "cell_type": "code",
   "execution_count": null,
   "id": "0faf3c14",
   "metadata": {},
   "outputs": [],
   "source": []
  }
 ],
 "metadata": {
  "kernelspec": {
   "display_name": "Python 3 (ipykernel)",
   "language": "python",
   "name": "python3"
  },
  "language_info": {
   "codemirror_mode": {
    "name": "ipython",
    "version": 3
   },
   "file_extension": ".py",
   "mimetype": "text/x-python",
   "name": "python",
   "nbconvert_exporter": "python",
   "pygments_lexer": "ipython3",
   "version": "3.8.16"
  }
 },
 "nbformat": 4,
 "nbformat_minor": 5
}
