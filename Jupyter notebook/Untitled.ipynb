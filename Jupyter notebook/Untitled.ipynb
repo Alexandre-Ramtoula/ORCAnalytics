{
 "cells": [
  {
   "cell_type": "code",
   "execution_count": 1,
   "id": "522ca5a5",
   "metadata": {},
   "outputs": [
    {
     "name": "stdout",
     "output_type": "stream",
     "text": [
      "Collecting leafmap\n",
      "  Downloading leafmap-0.23.3-py2.py3-none-any.whl (1.8 MB)\n",
      "     ---------------------------------------- 1.8/1.8 MB 8.1 MB/s eta 0:00:00\n",
      "Collecting bqplot\n",
      "  Downloading bqplot-0.12.40-py2.py3-none-any.whl (1.2 MB)\n",
      "     ---------------------------------------- 1.2/1.2 MB 9.8 MB/s eta 0:00:00\n",
      "Collecting geojson\n",
      "  Downloading geojson-3.0.1-py3-none-any.whl (15 kB)\n",
      "Collecting colour\n",
      "  Downloading colour-0.1.5-py2.py3-none-any.whl (23 kB)\n",
      "Collecting ipyleaflet\n",
      "  Downloading ipyleaflet-0.17.3-py3-none-any.whl (3.4 MB)\n",
      "     ---------------------------------------- 3.4/3.4 MB 10.8 MB/s eta 0:00:00\n",
      "Collecting scooby\n",
      "  Downloading scooby-0.7.2-py3-none-any.whl (16 kB)\n",
      "Collecting folium\n",
      "  Downloading folium-0.14.0-py2.py3-none-any.whl (102 kB)\n",
      "     -------------------------------------- 102.3/102.3 kB 5.8 MB/s eta 0:00:00\n",
      "Collecting pyshp\n",
      "  Downloading pyshp-2.3.1-py2.py3-none-any.whl (46 kB)\n",
      "     ---------------------------------------- 46.5/46.5 kB 2.3 MB/s eta 0:00:00\n",
      "Requirement already satisfied: pandas in c:\\users\\raynn\\anaconda3\\envs\\advancedanalytics\\lib\\site-packages (from leafmap) (1.5.3)\n",
      "Collecting ipyevents\n",
      "  Downloading ipyevents-2.0.2-py3-none-any.whl (101 kB)\n",
      "     -------------------------------------- 101.8/101.8 kB 6.1 MB/s eta 0:00:00\n",
      "Collecting ipyfilechooser\n",
      "  Downloading ipyfilechooser-0.6.0-py3-none-any.whl (11 kB)\n",
      "Requirement already satisfied: matplotlib in c:\\users\\raynn\\anaconda3\\envs\\advancedanalytics\\lib\\site-packages (from leafmap) (3.6.3)\n",
      "Requirement already satisfied: numpy in c:\\users\\raynn\\anaconda3\\envs\\advancedanalytics\\lib\\site-packages (from leafmap) (1.24.1)\n",
      "Collecting pystac-client\n",
      "  Downloading pystac_client-0.7.3-py3-none-any.whl (33 kB)\n",
      "Collecting whiteboxgui\n",
      "  Downloading whiteboxgui-2.3.0-py2.py3-none-any.whl (108 kB)\n",
      "     -------------------------------------- 108.6/108.6 kB 6.1 MB/s eta 0:00:00\n",
      "Collecting xyzservices\n",
      "  Downloading xyzservices-2023.7.0-py3-none-any.whl (56 kB)\n",
      "     ---------------------------------------- 56.7/56.7 kB 2.9 MB/s eta 0:00:00\n",
      "Collecting python-box\n",
      "  Downloading python_box-7.0.1-cp38-cp38-win_amd64.whl (1.0 MB)\n",
      "     ---------------------------------------- 1.0/1.0 MB 13.0 MB/s eta 0:00:00\n",
      "Collecting ipywidgets\n",
      "  Downloading ipywidgets-8.1.0-py3-none-any.whl (139 kB)\n",
      "     -------------------------------------- 139.3/139.3 kB 8.1 MB/s eta 0:00:00\n",
      "Collecting gdown\n",
      "  Downloading gdown-4.7.1-py3-none-any.whl (15 kB)\n",
      "Collecting traittypes>=0.0.6\n",
      "  Downloading traittypes-0.2.1-py2.py3-none-any.whl (8.6 kB)\n",
      "Requirement already satisfied: traitlets>=4.3.0 in c:\\users\\raynn\\anaconda3\\envs\\advancedanalytics\\lib\\site-packages (from bqplot->leafmap) (5.7.1)\n",
      "Collecting jupyterlab-widgets~=3.0.7\n",
      "  Downloading jupyterlab_widgets-3.0.8-py3-none-any.whl (214 kB)\n",
      "     ------------------------------------- 215.0/215.0 kB 13.6 MB/s eta 0:00:00\n",
      "Collecting comm>=0.1.3\n",
      "  Downloading comm-0.1.4-py3-none-any.whl (6.6 kB)\n",
      "Collecting widgetsnbextension~=4.0.7\n",
      "  Downloading widgetsnbextension-4.0.8-py3-none-any.whl (2.3 MB)\n",
      "     ---------------------------------------- 2.3/2.3 MB 10.4 MB/s eta 0:00:00\n",
      "Requirement already satisfied: ipython>=6.1.0 in c:\\users\\raynn\\anaconda3\\envs\\advancedanalytics\\lib\\site-packages (from ipywidgets->leafmap) (8.8.0)\n",
      "Requirement already satisfied: pytz>=2020.1 in c:\\users\\raynn\\anaconda3\\envs\\advancedanalytics\\lib\\site-packages (from pandas->leafmap) (2022.7.1)\n",
      "Requirement already satisfied: python-dateutil>=2.8.1 in c:\\users\\raynn\\anaconda3\\envs\\advancedanalytics\\lib\\site-packages (from pandas->leafmap) (2.8.2)\n",
      "Requirement already satisfied: jinja2>=2.9 in c:\\users\\raynn\\anaconda3\\envs\\advancedanalytics\\lib\\site-packages (from folium->leafmap) (3.1.2)\n",
      "Requirement already satisfied: requests in c:\\users\\raynn\\anaconda3\\envs\\advancedanalytics\\lib\\site-packages (from folium->leafmap) (2.28.2)\n",
      "Collecting branca>=0.6.0\n",
      "  Downloading branca-0.6.0-py3-none-any.whl (24 kB)\n",
      "Requirement already satisfied: tqdm in c:\\users\\raynn\\anaconda3\\envs\\advancedanalytics\\lib\\site-packages (from gdown->leafmap) (4.64.1)\n",
      "Requirement already satisfied: beautifulsoup4 in c:\\users\\raynn\\anaconda3\\envs\\advancedanalytics\\lib\\site-packages (from gdown->leafmap) (4.11.1)\n",
      "Collecting filelock\n",
      "  Downloading filelock-3.12.2-py3-none-any.whl (10 kB)\n",
      "Requirement already satisfied: six in c:\\users\\raynn\\anaconda3\\envs\\advancedanalytics\\lib\\site-packages (from gdown->leafmap) (1.16.0)\n",
      "Requirement already satisfied: pillow>=6.2.0 in c:\\users\\raynn\\anaconda3\\envs\\advancedanalytics\\lib\\site-packages (from matplotlib->leafmap) (9.4.0)\n",
      "Requirement already satisfied: pyparsing>=2.2.1 in c:\\users\\raynn\\anaconda3\\envs\\advancedanalytics\\lib\\site-packages (from matplotlib->leafmap) (3.0.9)\n",
      "Requirement already satisfied: cycler>=0.10 in c:\\users\\raynn\\anaconda3\\envs\\advancedanalytics\\lib\\site-packages (from matplotlib->leafmap) (0.11.0)\n",
      "Requirement already satisfied: packaging>=20.0 in c:\\users\\raynn\\anaconda3\\envs\\advancedanalytics\\lib\\site-packages (from matplotlib->leafmap) (23.0)\n",
      "Requirement already satisfied: contourpy>=1.0.1 in c:\\users\\raynn\\anaconda3\\envs\\advancedanalytics\\lib\\site-packages (from matplotlib->leafmap) (1.0.7)\n",
      "Requirement already satisfied: kiwisolver>=1.0.1 in c:\\users\\raynn\\anaconda3\\envs\\advancedanalytics\\lib\\site-packages (from matplotlib->leafmap) (1.4.4)\n",
      "Requirement already satisfied: fonttools>=4.22.0 in c:\\users\\raynn\\anaconda3\\envs\\advancedanalytics\\lib\\site-packages (from matplotlib->leafmap) (4.38.0)\n",
      "Collecting pystac[validation]>=1.8.2\n",
      "  Downloading pystac-1.8.3-py3-none-any.whl (175 kB)\n",
      "     ------------------------------------- 175.6/175.6 kB 10.3 MB/s eta 0:00:00\n",
      "Collecting whitebox\n",
      "  Downloading whitebox-2.3.1-py2.py3-none-any.whl (72 kB)\n",
      "     ---------------------------------------- 72.1/72.1 kB 3.9 MB/s eta 0:00:00\n",
      "Collecting ipytree\n",
      "  Downloading ipytree-0.2.2-py2.py3-none-any.whl (1.3 MB)\n",
      "     ---------------------------------------- 1.3/1.3 MB 13.7 MB/s eta 0:00:00\n",
      "Requirement already satisfied: pygments>=2.4.0 in c:\\users\\raynn\\anaconda3\\envs\\advancedanalytics\\lib\\site-packages (from ipython>=6.1.0->ipywidgets->leafmap) (2.11.2)\n",
      "Requirement already satisfied: backcall in c:\\users\\raynn\\anaconda3\\envs\\advancedanalytics\\lib\\site-packages (from ipython>=6.1.0->ipywidgets->leafmap) (0.2.0)\n",
      "Requirement already satisfied: prompt-toolkit<3.1.0,>=3.0.11 in c:\\users\\raynn\\anaconda3\\envs\\advancedanalytics\\lib\\site-packages (from ipython>=6.1.0->ipywidgets->leafmap) (3.0.36)\n",
      "Requirement already satisfied: decorator in c:\\users\\raynn\\anaconda3\\envs\\advancedanalytics\\lib\\site-packages (from ipython>=6.1.0->ipywidgets->leafmap) (5.1.1)\n",
      "Requirement already satisfied: jedi>=0.16 in c:\\users\\raynn\\anaconda3\\envs\\advancedanalytics\\lib\\site-packages (from ipython>=6.1.0->ipywidgets->leafmap) (0.18.1)\n",
      "Requirement already satisfied: matplotlib-inline in c:\\users\\raynn\\anaconda3\\envs\\advancedanalytics\\lib\\site-packages (from ipython>=6.1.0->ipywidgets->leafmap) (0.1.6)\n",
      "Requirement already satisfied: colorama in c:\\users\\raynn\\anaconda3\\envs\\advancedanalytics\\lib\\site-packages (from ipython>=6.1.0->ipywidgets->leafmap) (0.4.6)\n",
      "Requirement already satisfied: pickleshare in c:\\users\\raynn\\anaconda3\\envs\\advancedanalytics\\lib\\site-packages (from ipython>=6.1.0->ipywidgets->leafmap) (0.7.5)\n",
      "Requirement already satisfied: stack-data in c:\\users\\raynn\\anaconda3\\envs\\advancedanalytics\\lib\\site-packages (from ipython>=6.1.0->ipywidgets->leafmap) (0.2.0)\n",
      "Requirement already satisfied: MarkupSafe>=2.0 in c:\\users\\raynn\\anaconda3\\envs\\advancedanalytics\\lib\\site-packages (from jinja2>=2.9->folium->leafmap) (2.1.1)\n",
      "Collecting importlib-resources>=5.12.0\n",
      "  Downloading importlib_resources-6.0.1-py3-none-any.whl (34 kB)\n",
      "Requirement already satisfied: jsonschema<4.18,>=4.0.1 in c:\\users\\raynn\\anaconda3\\envs\\advancedanalytics\\lib\\site-packages (from pystac[validation]>=1.8.2->pystac-client->leafmap) (4.16.0)\n",
      "Requirement already satisfied: idna<4,>=2.5 in c:\\users\\raynn\\anaconda3\\envs\\advancedanalytics\\lib\\site-packages (from requests->folium->leafmap) (3.4)\n",
      "Requirement already satisfied: charset-normalizer<4,>=2 in c:\\users\\raynn\\anaconda3\\envs\\advancedanalytics\\lib\\site-packages (from requests->folium->leafmap) (3.0.1)\n",
      "Requirement already satisfied: urllib3<1.27,>=1.21.1 in c:\\users\\raynn\\anaconda3\\envs\\advancedanalytics\\lib\\site-packages (from requests->folium->leafmap) (1.26.14)\n",
      "Requirement already satisfied: certifi>=2017.4.17 in c:\\users\\raynn\\anaconda3\\envs\\advancedanalytics\\lib\\site-packages (from requests->folium->leafmap) (2022.12.7)\n",
      "Requirement already satisfied: soupsieve>1.2 in c:\\users\\raynn\\anaconda3\\envs\\advancedanalytics\\lib\\site-packages (from beautifulsoup4->gdown->leafmap) (2.3.2.post1)\n",
      "Requirement already satisfied: PySocks!=1.5.7,>=1.5.6 in c:\\users\\raynn\\anaconda3\\envs\\advancedanalytics\\lib\\site-packages (from requests->folium->leafmap) (1.7.1)\n",
      "Collecting Click>=6.0\n",
      "  Using cached click-8.1.7-py3-none-any.whl (97 kB)\n",
      "Requirement already satisfied: zipp>=3.1.0 in c:\\users\\raynn\\anaconda3\\envs\\advancedanalytics\\lib\\site-packages (from importlib-resources>=5.12.0->pystac[validation]>=1.8.2->pystac-client->leafmap) (3.11.0)\n",
      "Requirement already satisfied: parso<0.9.0,>=0.8.0 in c:\\users\\raynn\\anaconda3\\envs\\advancedanalytics\\lib\\site-packages (from jedi>=0.16->ipython>=6.1.0->ipywidgets->leafmap) (0.8.3)\n",
      "Requirement already satisfied: pyrsistent!=0.17.0,!=0.17.1,!=0.17.2,>=0.14.0 in c:\\users\\raynn\\anaconda3\\envs\\advancedanalytics\\lib\\site-packages (from jsonschema<4.18,>=4.0.1->pystac[validation]>=1.8.2->pystac-client->leafmap) (0.18.0)\n",
      "Requirement already satisfied: pkgutil-resolve-name>=1.3.10 in c:\\users\\raynn\\anaconda3\\envs\\advancedanalytics\\lib\\site-packages (from jsonschema<4.18,>=4.0.1->pystac[validation]>=1.8.2->pystac-client->leafmap) (1.3.10)\n",
      "Requirement already satisfied: attrs>=17.4.0 in c:\\users\\raynn\\anaconda3\\envs\\advancedanalytics\\lib\\site-packages (from jsonschema<4.18,>=4.0.1->pystac[validation]>=1.8.2->pystac-client->leafmap) (22.1.0)\n",
      "Requirement already satisfied: wcwidth in c:\\users\\raynn\\anaconda3\\envs\\advancedanalytics\\lib\\site-packages (from prompt-toolkit<3.1.0,>=3.0.11->ipython>=6.1.0->ipywidgets->leafmap) (0.2.5)\n",
      "Requirement already satisfied: asttokens in c:\\users\\raynn\\anaconda3\\envs\\advancedanalytics\\lib\\site-packages (from stack-data->ipython>=6.1.0->ipywidgets->leafmap) (2.0.5)\n",
      "Requirement already satisfied: executing in c:\\users\\raynn\\anaconda3\\envs\\advancedanalytics\\lib\\site-packages (from stack-data->ipython>=6.1.0->ipywidgets->leafmap) (0.8.3)\n",
      "Requirement already satisfied: pure-eval in c:\\users\\raynn\\anaconda3\\envs\\advancedanalytics\\lib\\site-packages (from stack-data->ipython>=6.1.0->ipywidgets->leafmap) (0.2.2)\n",
      "Installing collected packages: colour, xyzservices, widgetsnbextension, traittypes, scooby, python-box, pyshp, jupyterlab-widgets, importlib-resources, geojson, filelock, comm, Click, whitebox, pystac, branca, gdown, folium, pystac-client, ipywidgets, ipytree, ipyleaflet, ipyfilechooser, ipyevents, bqplot, whiteboxgui, leafmap\n",
      "  Attempting uninstall: importlib-resources\n",
      "    Found existing installation: importlib-resources 5.2.0\n",
      "    Uninstalling importlib-resources-5.2.0:\n",
      "      Successfully uninstalled importlib-resources-5.2.0\n",
      "  Attempting uninstall: comm\n",
      "    Found existing installation: comm 0.1.2\n",
      "    Uninstalling comm-0.1.2:\n",
      "      Successfully uninstalled comm-0.1.2\n",
      "Successfully installed Click-8.1.7 bqplot-0.12.40 branca-0.6.0 colour-0.1.5 comm-0.1.4 filelock-3.12.2 folium-0.14.0 gdown-4.7.1 geojson-3.0.1 importlib-resources-6.0.1 ipyevents-2.0.2 ipyfilechooser-0.6.0 ipyleaflet-0.17.3 ipytree-0.2.2 ipywidgets-8.1.0 jupyterlab-widgets-3.0.8 leafmap-0.23.3 pyshp-2.3.1 pystac-1.8.3 pystac-client-0.7.3 python-box-7.0.1 scooby-0.7.2 traittypes-0.2.1 whitebox-2.3.1 whiteboxgui-2.3.0 widgetsnbextension-4.0.8 xyzservices-2023.7.0\n"
     ]
    }
   ],
   "source": [
    "!pip install leafmap"
   ]
  },
  {
   "cell_type": "code",
   "execution_count": 2,
   "id": "4bdde7e5",
   "metadata": {},
   "outputs": [],
   "source": [
    "import leafmap.plotlymap as leafmap"
   ]
  },
  {
   "cell_type": "code",
   "execution_count": 3,
   "id": "8d0bb8e3",
   "metadata": {},
   "outputs": [],
   "source": [
    "m = leafmap.Map()"
   ]
  },
  {
   "cell_type": "code",
   "execution_count": 4,
   "id": "63f5adcb",
   "metadata": {},
   "outputs": [],
   "source": [
    "m.add_basemap(\"Stamen.Terrain\")"
   ]
  },
  {
   "cell_type": "code",
   "execution_count": 5,
   "id": "a6e94d4d",
   "metadata": {},
   "outputs": [],
   "source": [
    "m.add_heatmap_demo()"
   ]
  },
  {
   "cell_type": "code",
   "execution_count": 6,
   "id": "810e59d7",
   "metadata": {},
   "outputs": [],
   "source": [
    "m.add_scatter_plot_demo()"
   ]
  },
  {
   "cell_type": "code",
   "execution_count": 7,
   "id": "796669c2",
   "metadata": {},
   "outputs": [
    {
     "data": {
      "application/vnd.jupyter.widget-view+json": {
       "model_id": "edfb710dc41541ae8e8206b826ac4879",
       "version_major": 2,
       "version_minor": 0
      },
      "text/plain": [
       "Map({\n",
       "    'data': [{'type': 'scattermapbox', 'uid': 'e124d508-03d7-43a5-a000-c2ef1ba0fd2b'},\n",
       "             {'lat': array([ 19.246 ,   1.863 , -20.579 , ...,  36.9179,  -9.0283,  37.3973]),\n",
       "              'lon': array([ 145.616 ,  127.352 , -173.972 , ...,  140.4262,  118.6639,  141.4103]),\n",
       "              'name': 'Earthquake',\n",
       "              'radius': 10,\n",
       "              'type': 'densitymapbox',\n",
       "              'uid': 'df7cf9f4-f037-4e9e-8b82-7179f538df86',\n",
       "              'z': array([6. , 5.8, 6.2, ..., 5.9, 6.3, 5.5])},\n",
       "             {'lat': array([-40.53305824,   8.56236394, -50.7660303 , ..., -20.95675421,\n",
       "                             85.28842209,  36.60647634]),\n",
       "              'lon': array([312.29105544, 221.69260937, 145.88324452, ..., 290.97828615,\n",
       "                            278.2202127 , 241.10741043]),\n",
       "              'marker': {'color': array([48.79365709, 43.96723971, 46.34196891, ...,  3.90695582, 27.89042041,\n",
       "                                         19.98487164])},\n",
       "              'name': 'Random points',\n",
       "              'type': 'scattermapbox',\n",
       "              'uid': '0d014a73-4775-448c-b34c-b66a3152bf07'}],\n",
       "    'layout': {'height': 600,\n",
       "               'mapbox': {'center': {'lat': 20, 'lon': 0},\n",
       "                          'layers': [{'below': 'traces',\n",
       "                                      'name': 'Stamen.Terrain',\n",
       "                                      'source': [https://stamen-tiles-a.a.ssl.fast\n",
       "                                                 ly.net/terrain/{z}/{x}/{y}.png],\n",
       "                                      'sourceattribution': 'Map tiles by Stamen Design, CC BY 3.0 -- Map data (C) OpenStreetMap contributors',\n",
       "                                      'sourcetype': 'raster'}],\n",
       "                          'style': 'open-street-map',\n",
       "                          'zoom': 1},\n",
       "               'margin': {'b': 0, 'l': 0, 'r': 0, 't': 0},\n",
       "               'template': '...'}\n",
       "})"
      ]
     },
     "metadata": {},
     "output_type": "display_data"
    },
    {
     "data": {
      "application/vnd.jupyter.widget-view+json": {
       "model_id": "fbd58bb8c62443b4b0cf841a6eb6c5d0",
       "version_major": 2,
       "version_minor": 0
      },
      "text/plain": [
       "HBox(children=(Output(layout=Layout(width='98%')), VBox(children=(VBox(children=(ToggleButton(value=False, ico…"
      ]
     },
     "execution_count": 7,
     "metadata": {},
     "output_type": "execute_result"
    }
   ],
   "source": [
    "m.show()"
   ]
  },
  {
   "cell_type": "code",
   "execution_count": null,
   "id": "0e237bbf",
   "metadata": {},
   "outputs": [],
   "source": []
  }
 ],
 "metadata": {
  "kernelspec": {
   "display_name": "Python 3 (ipykernel)",
   "language": "python",
   "name": "python3"
  },
  "language_info": {
   "codemirror_mode": {
    "name": "ipython",
    "version": 3
   },
   "file_extension": ".py",
   "mimetype": "text/x-python",
   "name": "python",
   "nbconvert_exporter": "python",
   "pygments_lexer": "ipython3",
   "version": "3.8.16"
  }
 },
 "nbformat": 4,
 "nbformat_minor": 5
}
